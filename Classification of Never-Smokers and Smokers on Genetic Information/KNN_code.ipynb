{
 "cells": [
  {
   "cell_type": "markdown",
   "metadata": {},
   "source": [
    "Classification of Smokers and Never-Smokers on the basis of Genetic information \n",
    "using KNN Model coded from Scratch followed by Crossvalidation"
   ]
  },
  {
   "cell_type": "markdown",
   "metadata": {},
   "source": [
    "1. Importing the libraries:"
   ]
  },
  {
   "cell_type": "code",
   "execution_count": 173,
   "metadata": {},
   "outputs": [],
   "source": [
    "import numpy as np\n",
    "import collections, sys,string, argparse, re\n",
    "from collections import OrderedDict\n",
    "import string, math, operator, sys, os\n",
    "from scipy import stats"
   ]
  },
  {
   "cell_type": "markdown",
   "metadata": {},
   "source": [
    "2. Loading the data:"
   ]
  },
  {
   "cell_type": "code",
   "execution_count": 174,
   "metadata": {},
   "outputs": [],
   "source": [
    "#num_genes, c0_samples, data = load_data('E:/ML Career/FreeLancer/1 KNN/knn/knn/GSE994-train.txt')\n",
    "\n",
    "def load_data(input):\n",
    "        f = open(input, 'r')\n",
    "        lines = f.readlines()\n",
    "        num_genes = int(len(lines)-1)\n",
    "        temp = lines[0].split()\n",
    "        num_records = int(len(temp))\n",
    "        data = [[0 for x in range(num_genes)] for x in range(num_records)]\n",
    "\n",
    "        for i in range(num_genes):\n",
    "            temp = lines[i+1].split()\n",
    "            for j in range(num_records):\n",
    "                data[j][i] = temp[j+1]\n",
    "                if (i < num_genes-1):\n",
    "                    data[j][i] = float(temp[j+1])\n",
    "\n",
    "        return num_genes, num_records, data\n",
    "#data[29][12966]\n",
    "\n",
    "train_data = 'E:/ML Career/FreeLancer/1 KNN/knn/knn/GSE994-train.txt'\n",
    "test_data = 'E:/ML Career/FreeLancer/1 KNN/knn/knn/GSE994-test.txt'\n",
    "test_genes, num_test_samps, test_data = load_data(test_data)\n",
    "train_genes, num_train_samps, train_data = load_data(train_data)\n"
   ]
  },
  {
   "cell_type": "code",
   "execution_count": 175,
   "metadata": {},
   "outputs": [
    {
     "data": {
      "text/plain": [
       "float"
      ]
     },
     "execution_count": 175,
     "metadata": {},
     "output_type": "execute_result"
    }
   ],
   "source": [
    "type(train_data[1][12965])"
   ]
  },
  {
   "cell_type": "markdown",
   "metadata": {},
   "source": [
    "3. Euclidean Distance"
   ]
  },
  {
   "cell_type": "code",
   "execution_count": 176,
   "metadata": {},
   "outputs": [],
   "source": [
    "# calculates the euclidean distance between 2 points \n",
    "def euclidean_distance(point1, point2, length):\n",
    "        \n",
    "        distance = 0.0\n",
    "        for i in range(length-1):\n",
    "                distance += (point1[i] - point2[i])**2\n",
    "\n",
    "        return math.sqrt(distance)"
   ]
  },
  {
   "cell_type": "code",
   "execution_count": 177,
   "metadata": {},
   "outputs": [
    {
     "data": {
      "text/plain": [
       "30"
      ]
     },
     "execution_count": 177,
     "metadata": {},
     "output_type": "execute_result"
    }
   ],
   "source": [
    "len(train_data)"
   ]
  },
  {
   "cell_type": "markdown",
   "metadata": {},
   "source": [
    "4. KNN Model"
   ]
  },
  {
   "cell_type": "code",
   "execution_count": 178,
   "metadata": {},
   "outputs": [],
   "source": [
    "def nearest_neighbor(test, training, k, num_samples, test_genes):\n",
    "        #test = test_data \n",
    "        #training = train_data\n",
    "        #k = 3\n",
    "        #num_samples = num_train_samps\n",
    "        #test_genes = test_genes\n",
    "\n",
    "        test_length = len(test)\n",
    "        nearest_distances = {};\n",
    "        output_class = [record[-1] for record in train_data]\n",
    "\n",
    "        output_file = open(\"Output_smoker.txt\",\"w\")\n",
    "\n",
    "        for i in range(test_length):\n",
    "                #i denotes patient number in test data. i = 0 implies patient1\n",
    "                for j in range(len(training)):\n",
    "                        #j denotes patient number in train data. j = 0 implies patient1 of train data\n",
    "                        distance = euclidean_distance(test[i], training[j],\n",
    "                        test_genes)\n",
    "                        # test[i] is the list of gene values for patient in test data\n",
    "                        #training[j] is the list of gene values for patient in train data\n",
    "                        nearest_distances[j] = distance\n",
    "                # now we have to sort the distances \n",
    "                nearest_neighbors = sorted(nearest_distances, \n",
    "                                            key=nearest_distances.__getitem__) \n",
    "                c0_count = 0 # count of 'NeverSmoker'\n",
    "                c1_count = 0 # count of 'CurrentSmoker'\n",
    "                for x in range(k):\n",
    "                        y = nearest_neighbors[x]\n",
    "                        if output_class[y] == 'NeverSmoker': \n",
    "                                c0_count += 1\n",
    "                        else:\n",
    "                                c1_count += 1\n",
    "\n",
    "                if (c0_count > c1_count):\n",
    "                        output_file.write('PATIENT'+ str(i+31) + ' NeverSmoker\\n')\n",
    "                        #print('NeverSmoker')\n",
    "                else:\n",
    "                        output_file.write('PATIENT'+ str(i+31) + ' CurrentSmoker\\n')\n",
    "                        #print('CurrentSmoker')\n",
    "        output_file.close()\n",
    "        output_file = open(\"Output_smoker.txt\",\"r\")\n",
    "        print(output_file.read())"
   ]
  },
  {
   "cell_type": "code",
   "execution_count": 186,
   "metadata": {},
   "outputs": [
    {
     "name": "stdout",
     "output_type": "stream",
     "text": [
      "PATIENT31 CurrentSmoker\n",
      "PATIENT32 NeverSmoker\n",
      "PATIENT33 NeverSmoker\n",
      "PATIENT34 NeverSmoker\n",
      "PATIENT35 CurrentSmoker\n",
      "PATIENT36 NeverSmoker\n",
      "PATIENT37 NeverSmoker\n",
      "PATIENT38 NeverSmoker\n",
      "PATIENT39 CurrentSmoker\n",
      "PATIENT40 NeverSmoker\n",
      "PATIENT41 CurrentSmoker\n",
      "PATIENT42 CurrentSmoker\n",
      "PATIENT43 CurrentSmoker\n",
      "PATIENT44 NeverSmoker\n",
      "PATIENT45 NeverSmoker\n",
      "PATIENT46 NeverSmoker\n",
      "PATIENT47 CurrentSmoker\n",
      "PATIENT48 NeverSmoker\n",
      "PATIENT49 CurrentSmoker\n",
      "PATIENT50 NeverSmoker\n",
      "PATIENT51 CurrentSmoker\n",
      "PATIENT52 NeverSmoker\n",
      "PATIENT53 NeverSmoker\n",
      "PATIENT54 CurrentSmoker\n",
      "PATIENT55 CurrentSmoker\n",
      "\n"
     ]
    }
   ],
   "source": [
    "nearest_neighbor(test_data, train_data, 1, num_train_samps, test_genes)"
   ]
  },
  {
   "cell_type": "markdown",
   "metadata": {},
   "source": [
    "5. Cross validation 5-fold"
   ]
  },
  {
   "cell_type": "code",
   "execution_count": 194,
   "metadata": {},
   "outputs": [],
   "source": [
    "def five_fold_cv(train_data):\n",
    "\n",
    "    output_1nn = open(\"cv5f1nn.txt\",\"w\")\n",
    "    output_3nn = open(\"cv5f3nn.txt\",\"w\")\n",
    "    for f in range(int(len(train_data)/5)-1):\n",
    "            training = train_data[0:(f*6)]+train_data[((f+1)*6):]\n",
    "            test = train_data[(f*6):((f+1)*6)]\n",
    "            k = 3\n",
    "            #num_samples = num_train_samps\n",
    "            #test_genes = test_genes\n",
    "\n",
    "            test_length = len(test)\n",
    "            nearest_distances = {};\n",
    "            output_class = [record[-1] for record in training]\n",
    "\n",
    "            output_1nn.write('fold '+str(f+1) + ': PATIENT' + str(f*6+1) + ' - PATIENT' + str((f+1)*6)+' \\n')\n",
    "            output_3nn.write('fold '+str(f+1) + ': PATIENT' + str(f*6+1) + ' - PATIENT' + str((f+1)*6)+' \\n')\n",
    "\n",
    "            for i in range(test_length):\n",
    "                    #i denotes patient number in test data. i = 0 implies patient1\n",
    "                    for j in range(len(training)):\n",
    "                            #j denotes patient number in train data. j = 0 implies patient1 of train data\n",
    "                            distance = euclidean_distance(test[i], training[j],\n",
    "                            test_genes)\n",
    "                            # test[i] is the list of gene values for patient in test data\n",
    "                            #training[j] is the list of gene values for patient in train data\n",
    "                            nearest_distances[j] = distance\n",
    "                    # now we have to sort the distances \n",
    "                    nearest_neighbors = sorted(nearest_distances, \n",
    "                                                key=nearest_distances.__getitem__) \n",
    "                    c0_count = 0 # count of 'NeverSmoker'\n",
    "                    c1_count = 0 # count of 'CurrentSmoker'\n",
    "                    for x in range(1):\n",
    "                            y = nearest_neighbors[x]\n",
    "                            if output_class[y] == 'NeverSmoker': \n",
    "                                    c0_count += 1\n",
    "                            else:\n",
    "                                    c1_count += 1\n",
    "\n",
    "                    if (c0_count > c1_count):\n",
    "                            output_1nn.write('PATIENT'+ str((f*6)+(i+1)) + ' NeverSmoker\\n')\n",
    "                            #print('NeverSmoker')\n",
    "                    else:\n",
    "                            output_1nn.write('PATIENT'+ str((f*6)+(i+1)) + ' CurrentSmoker\\n')\n",
    "                            #print('CurrentSmoker')\n",
    "\n",
    "                    for x in range(3):\n",
    "                            y = nearest_neighbors[x]\n",
    "                            if output_class[y] == 'NeverSmoker': \n",
    "                                    c0_count += 1\n",
    "                            else:\n",
    "                                    c1_count += 1\n",
    "\n",
    "                    if (c0_count > c1_count):\n",
    "                            output_3nn.write('PATIENT'+ str((f*6)+(i+1)) + ' NeverSmoker\\n')\n",
    "                            #print('NeverSmoker')\n",
    "                    else:\n",
    "                            output_3nn.write('PATIENT'+ str((f*6)+(i+1)) + ' CurrentSmoker\\n')\n",
    "                            #print('CurrentSmoker')\n",
    "\n",
    "\n",
    "    output_1nn.close()\n",
    "    output_3nn.close()\n",
    "    output_file = open(\"cv5f1nn.txt\",\"r\")\n",
    "    print(output_file.read())"
   ]
  },
  {
   "cell_type": "code",
   "execution_count": 195,
   "metadata": {},
   "outputs": [
    {
     "name": "stdout",
     "output_type": "stream",
     "text": [
      "fold 1: PATIENT1 - PATIENT6 \n",
      "PATIENT1 CurrentSmoker\n",
      "PATIENT2 CurrentSmoker\n",
      "PATIENT3 NeverSmoker\n",
      "PATIENT4 NeverSmoker\n",
      "PATIENT5 CurrentSmoker\n",
      "PATIENT6 CurrentSmoker\n",
      "fold 2: PATIENT7 - PATIENT12 \n",
      "PATIENT7 CurrentSmoker\n",
      "PATIENT8 NeverSmoker\n",
      "PATIENT9 CurrentSmoker\n",
      "PATIENT10 NeverSmoker\n",
      "PATIENT11 NeverSmoker\n",
      "PATIENT12 NeverSmoker\n",
      "fold 3: PATIENT13 - PATIENT18 \n",
      "PATIENT13 CurrentSmoker\n",
      "PATIENT14 NeverSmoker\n",
      "PATIENT15 CurrentSmoker\n",
      "PATIENT16 CurrentSmoker\n",
      "PATIENT17 NeverSmoker\n",
      "PATIENT18 CurrentSmoker\n",
      "fold 4: PATIENT19 - PATIENT24 \n",
      "PATIENT19 NeverSmoker\n",
      "PATIENT20 CurrentSmoker\n",
      "PATIENT21 CurrentSmoker\n",
      "PATIENT22 NeverSmoker\n",
      "PATIENT23 NeverSmoker\n",
      "PATIENT24 NeverSmoker\n",
      "fold 5: PATIENT25 - PATIENT30 \n",
      "PATIENT25 NeverSmoker\n",
      "PATIENT26 NeverSmoker\n",
      "PATIENT27 CurrentSmoker\n",
      "PATIENT28 NeverSmoker\n",
      "PATIENT29 NeverSmoker\n",
      "PATIENT30 NeverSmoker\n",
      "\n"
     ]
    }
   ],
   "source": [
    "five_fold_cv(train_data)"
   ]
  },
  {
   "cell_type": "code",
   "execution_count": null,
   "metadata": {},
   "outputs": [],
   "source": []
  }
 ],
 "metadata": {
  "kernelspec": {
   "display_name": "Python 3",
   "language": "python",
   "name": "python3"
  },
  "language_info": {
   "codemirror_mode": {
    "name": "ipython",
    "version": 3
   },
   "file_extension": ".py",
   "mimetype": "text/x-python",
   "name": "python",
   "nbconvert_exporter": "python",
   "pygments_lexer": "ipython3",
   "version": "3.7.3"
  }
 },
 "nbformat": 4,
 "nbformat_minor": 2
}
